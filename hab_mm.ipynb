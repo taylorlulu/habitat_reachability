{
 "cells": [
  {
   "cell_type": "code",
   "execution_count": 1,
   "id": "64182a86",
   "metadata": {},
   "outputs": [
    {
     "name": "stderr",
     "output_type": "stream",
     "text": [
      "/home/lu/.conda/envs/hab-mm/lib/python3.7/site-packages/tqdm/auto.py:21: TqdmWarning: IProgress not found. Please update jupyter and ipywidgets. See https://ipywidgets.readthedocs.io/en/stable/user_install.html\n",
      "  from .autonotebook import tqdm as notebook_tqdm\n"
     ]
    }
   ],
   "source": [
    "import torch"
   ]
  },
  {
   "cell_type": "code",
   "execution_count": 3,
   "id": "794b57e8",
   "metadata": {},
   "outputs": [],
   "source": [
    "total_len = 350\n",
    "OBJ_BBOXES_NUM = 5"
   ]
  },
  {
   "cell_type": "code",
   "execution_count": 5,
   "id": "c4370828",
   "metadata": {},
   "outputs": [],
   "source": [
    "x = torch.arange(0, total_len * OBJ_BBOXES_NUM, OBJ_BBOXES_NUM, device='cuda:0')"
   ]
  },
  {
   "cell_type": "code",
   "execution_count": 6,
   "id": "8fcccda9",
   "metadata": {},
   "outputs": [
    {
     "data": {
      "text/plain": [
       "350"
      ]
     },
     "execution_count": 6,
     "metadata": {},
     "output_type": "execute_result"
    }
   ],
   "source": [
    "len(x)"
   ]
  },
  {
   "cell_type": "code",
   "execution_count": null,
   "id": "baafe0c1",
   "metadata": {},
   "outputs": [],
   "source": []
  }
 ],
 "metadata": {
  "kernelspec": {
   "display_name": "hab-mm",
   "language": "python",
   "name": "hab-mm"
  },
  "language_info": {
   "codemirror_mode": {
    "name": "ipython",
    "version": 3
   },
   "file_extension": ".py",
   "mimetype": "text/x-python",
   "name": "python",
   "nbconvert_exporter": "python",
   "pygments_lexer": "ipython3",
   "version": "3.7.12"
  }
 },
 "nbformat": 4,
 "nbformat_minor": 5
}
