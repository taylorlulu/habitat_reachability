{
 "cells": [
  {
   "cell_type": "code",
   "execution_count": 1,
   "id": "84ec5694",
   "metadata": {},
   "outputs": [],
   "source": [
    "import magnum\n",
    "\n",
    "# 创建一个 Vector3 对象\n",
    "vector1 = magnum.Vector3(1.0, 2.0, 3.0)\n",
    "\n",
    "# 使用 copy() 方法复制数据\n",
    "vector2 = magnum.Vector3(vector1)\n"
   ]
  },
  {
   "cell_type": "code",
   "execution_count": 11,
   "id": "1ed472a6",
   "metadata": {},
   "outputs": [],
   "source": [
    "vector2[0] = 10"
   ]
  },
  {
   "cell_type": "code",
   "execution_count": 12,
   "id": "400b95a6",
   "metadata": {},
   "outputs": [
    {
     "data": {
      "text/plain": [
       "Vector(10, 2, 3)"
      ]
     },
     "execution_count": 12,
     "metadata": {},
     "output_type": "execute_result"
    }
   ],
   "source": [
    "vector2"
   ]
  },
  {
   "cell_type": "code",
   "execution_count": 13,
   "id": "aaebd9e3",
   "metadata": {},
   "outputs": [
    {
     "data": {
      "text/plain": [
       "Vector(1, 2, 3)"
      ]
     },
     "execution_count": 13,
     "metadata": {},
     "output_type": "execute_result"
    }
   ],
   "source": [
    "vector1"
   ]
  },
  {
   "cell_type": "code",
   "execution_count": 2,
   "id": "6ba7942b",
   "metadata": {},
   "outputs": [],
   "source": [
    "import numpy as np"
   ]
  },
  {
   "cell_type": "code",
   "execution_count": 3,
   "id": "a9345eed",
   "metadata": {},
   "outputs": [],
   "source": [
    "a = np.array([1, 2, 3])"
   ]
  },
  {
   "cell_type": "code",
   "execution_count": 4,
   "id": "388dda1e",
   "metadata": {},
   "outputs": [
    {
     "ename": "BufferError",
     "evalue": "unexpected format l for a f vector",
     "output_type": "error",
     "traceback": [
      "\u001b[0;31m---------------------------------------------------------------------------\u001b[0m",
      "\u001b[0;31mBufferError\u001b[0m                               Traceback (most recent call last)",
      "\u001b[0;32m/tmp/ipykernel_15616/2575795320.py\u001b[0m in \u001b[0;36m<module>\u001b[0;34m\u001b[0m\n\u001b[0;32m----> 1\u001b[0;31m \u001b[0mvector1\u001b[0m \u001b[0;34m=\u001b[0m \u001b[0mmagnum\u001b[0m\u001b[0;34m.\u001b[0m\u001b[0mVector3\u001b[0m\u001b[0;34m(\u001b[0m\u001b[0ma\u001b[0m\u001b[0;34m)\u001b[0m\u001b[0;34m\u001b[0m\u001b[0;34m\u001b[0m\u001b[0m\n\u001b[0m",
      "\u001b[0;31mBufferError\u001b[0m: unexpected format l for a f vector"
     ]
    }
   ],
   "source": [
    "vector1 = magnum.Vector3(a)"
   ]
  },
  {
   "cell_type": "code",
   "execution_count": 5,
   "id": "85f8c3db",
   "metadata": {},
   "outputs": [
    {
     "data": {
      "text/plain": [
       "Vector(1, 2, 3, 4)"
      ]
     },
     "execution_count": 5,
     "metadata": {},
     "output_type": "execute_result"
    }
   ],
   "source": [
    "magnum.Color4(1, 2, 3, 4)"
   ]
  },
  {
   "cell_type": "code",
   "execution_count": null,
   "id": "db3f4612",
   "metadata": {},
   "outputs": [],
   "source": []
  },
  {
   "cell_type": "markdown",
   "id": "d58637e6",
   "metadata": {},
   "source": [
    "## 测试相同角度旋转情况下的states是否相同"
   ]
  },
  {
   "cell_type": "code",
   "execution_count": 6,
   "id": "db5b540f",
   "metadata": {},
   "outputs": [],
   "source": [
    "import numpy as np\n",
    "import os"
   ]
  },
  {
   "cell_type": "code",
   "execution_count": 36,
   "id": "e46ef850",
   "metadata": {},
   "outputs": [
    {
     "data": {
      "text/plain": [
       "array([2.7 , 2.65, 2.6 , 2.53, 2.47])"
      ]
     },
     "execution_count": 36,
     "metadata": {},
     "output_type": "execute_result"
    }
   ],
   "source": [
    "d1[-5:]"
   ]
  },
  {
   "cell_type": "code",
   "execution_count": 37,
   "id": "13aa914e",
   "metadata": {},
   "outputs": [
    {
     "data": {
      "text/plain": [
       "array([ 0.4 ,  0.46,  0.47,  0.47,  0.45,  0.44,  0.46,  0.45,  0.43,\n",
       "        0.41,  0.45,  0.43,  0.41,  0.39,  0.09,  0.45,  0.42, -0.5 ,\n",
       "       -0.29, -0.08,  0.46,  0.44, -0.7 , -0.54, -0.38,  0.46, -1.13,\n",
       "       -0.99, -0.85, -0.67,  0.41, -1.36, -1.3 , -1.17, -1.04,  0.39,\n",
       "       -1.39, -1.37, -1.32, -1.26,  0.37, -0.81, -1.14, -1.39, -1.34,\n",
       "        0.38,  0.1 , -0.2 , -0.5 , -0.85,  0.35,  0.59,  0.56,  0.39,\n",
       "        0.13,  0.34,  0.56,  0.52,  0.47,  0.39,  0.38,  0.52,  0.47,\n",
       "        0.38,  0.28,  0.43,  0.51,  0.46,  0.39,  0.27,  0.49,  0.5 ,\n",
       "        0.49,  0.41,  0.32,  0.56,  0.64,  0.54,  0.5 ,  0.4 ,  0.65,\n",
       "        0.74,  0.8 ,  0.81,  0.54,  0.21,  0.21,  0.22,  0.19,  0.17,\n",
       "        0.3 ,  0.28,  0.26,  0.24,  0.18,  0.41,  0.39,  0.37,  0.33,\n",
       "        0.39,  0.55,  0.5 ,  0.45,  0.45,  0.58,  0.68,  0.62,  0.56,\n",
       "        0.6 ,  0.69,  0.8 ,  0.74,  0.72,  0.74,  0.78,  0.93,  0.88,\n",
       "        0.88,  0.89,  0.91,  1.05,  1.02,  1.02,  1.03,  1.04,  1.17,\n",
       "        1.16,  1.15,  1.17,  1.18,  1.29,  1.28,  1.28,  1.28,  1.28,\n",
       "        1.42,  1.4 ,  1.39,  1.38,  1.36,  1.55,  1.52,  1.5 ,  1.47,\n",
       "        1.45,  1.68,  1.65,  1.6 ,  1.57,  1.54,  1.82,  1.76,  1.72,\n",
       "        1.68,  1.64,  1.97,  1.9 ,  1.85,  1.8 ,  1.76,  2.14,  2.06,\n",
       "        1.98,  1.93,  1.89,  2.31,  2.24,  2.17,  2.1 ,  2.05,  2.51,\n",
       "        2.44,  2.38,  2.33,  2.26])"
      ]
     },
     "execution_count": 37,
     "metadata": {},
     "output_type": "execute_result"
    }
   ],
   "source": [
    "d1[:-5]"
   ]
  },
  {
   "cell_type": "code",
   "execution_count": 39,
   "id": "78a0d418",
   "metadata": {},
   "outputs": [
    {
     "data": {
      "text/plain": [
       "array([ 2.7 ,  2.65,  2.6 ,  2.53,  2.47,  0.4 ,  0.46,  0.47,  0.47,\n",
       "        0.45,  0.44,  0.46,  0.45,  0.43,  0.41,  0.45,  0.43,  0.41,\n",
       "        0.39,  0.09,  0.45,  0.42, -0.5 , -0.29, -0.08,  0.46,  0.44,\n",
       "       -0.7 , -0.54, -0.38,  0.46, -1.13, -0.99, -0.85, -0.67,  0.41,\n",
       "       -1.36, -1.3 , -1.17, -1.04,  0.39, -1.39, -1.37, -1.32, -1.26,\n",
       "        0.37, -0.81, -1.14, -1.39, -1.34,  0.38,  0.1 , -0.2 , -0.5 ,\n",
       "       -0.85,  0.35,  0.59,  0.56,  0.39,  0.13,  0.34,  0.56,  0.52,\n",
       "        0.47,  0.39,  0.38,  0.52,  0.47,  0.38,  0.28,  0.43,  0.51,\n",
       "        0.46,  0.39,  0.27,  0.49,  0.5 ,  0.49,  0.41,  0.32,  0.56,\n",
       "        0.64,  0.54,  0.5 ,  0.4 ,  0.65,  0.74,  0.8 ,  0.81,  0.54,\n",
       "        0.21,  0.21,  0.22,  0.19,  0.17,  0.3 ,  0.28,  0.26,  0.24,\n",
       "        0.18,  0.41,  0.39,  0.37,  0.33,  0.39,  0.55,  0.5 ,  0.45,\n",
       "        0.45,  0.58,  0.68,  0.62,  0.56,  0.6 ,  0.69,  0.8 ,  0.74,\n",
       "        0.72,  0.74,  0.78,  0.93,  0.88,  0.88,  0.89,  0.91,  1.05,\n",
       "        1.02,  1.02,  1.03,  1.04,  1.17,  1.16,  1.15,  1.17,  1.18,\n",
       "        1.29,  1.28,  1.28,  1.28,  1.28,  1.42,  1.4 ,  1.39,  1.38,\n",
       "        1.36,  1.55,  1.52,  1.5 ,  1.47,  1.45,  1.68,  1.65,  1.6 ,\n",
       "        1.57,  1.54,  1.82,  1.76,  1.72,  1.68,  1.64,  1.97,  1.9 ,\n",
       "        1.85,  1.8 ,  1.76,  2.14,  2.06,  1.98,  1.93,  1.89,  2.31,\n",
       "        2.24,  2.17,  2.1 ,  2.05,  2.51,  2.44,  2.38,  2.33,  2.26])"
      ]
     },
     "execution_count": 39,
     "metadata": {},
     "output_type": "execute_result"
    }
   ],
   "source": [
    "np.hstack([d1[-5:], d1[:-5]])"
   ]
  },
  {
   "cell_type": "code",
   "execution_count": 88,
   "id": "38cc8939",
   "metadata": {},
   "outputs": [
    {
     "name": "stdout",
     "output_type": "stream",
     "text": [
      "0中curr_round_loc满足结果\n",
      "0中round_actions满足结果\n",
      "0中states的不满足结果\n",
      "[ 0.   -2.97  0.79 ...  2.5   3.09  1.72]\n",
      "[2.87 2.41 0.25 ... 3.92 0.06 2.64]\n",
      "0中q满足结果\n",
      "10中curr_round_loc满足结果\n",
      "10中round_actions满足结果\n",
      "10中states的不满足结果\n",
      "[-0.   -2.95  0.78 ...  2.51  3.11  1.67]\n",
      "[2.84 2.38 0.27 ... 3.97 0.07 2.59]\n",
      "10中q满足结果\n",
      "20中curr_round_loc满足结果\n",
      "20中round_actions满足结果\n",
      "20中states的不满足结果\n",
      "[-0.   -2.93  0.78 ...  2.51  3.1   1.62]\n",
      "[2.78 2.33 0.29 ... 3.99 0.07 2.54]\n",
      "20中q满足结果\n",
      "30中curr_round_loc满足结果\n",
      "30中round_actions满足结果\n",
      "30中states的不满足结果\n",
      "[-0.   -2.9   0.78 ...  2.51  3.07  1.58]\n",
      "[2.71 2.27 0.32 ... 3.99 0.07 2.49]\n",
      "30中q满足结果\n",
      "40中curr_round_loc满足结果\n",
      "40中round_actions满足结果\n",
      "40中states的不满足结果\n",
      "[-0.   -2.86  0.77 ...  2.5   3.02  1.54]\n",
      "[2.62 2.2  0.34 ... 3.97 0.05 2.45]\n",
      "40中q满足结果\n",
      "50中curr_round_loc满足结果\n",
      "50中round_actions满足结果\n",
      "50中states的不满足结果\n",
      "[-0.   -2.82  0.77 ...  2.48  2.94  1.5 ]\n",
      "[2.52 2.12 0.36 ... 3.92 0.03 2.41]\n",
      "50中q满足结果\n",
      "60中curr_round_loc满足结果\n",
      "60中round_actions满足结果\n",
      "60中states的不满足结果\n",
      "[ 0.   -2.77  0.77 ...  2.45  2.84  1.47]\n",
      "[ 2.41  2.02  0.37 ...  3.85 -0.    2.37]\n",
      "60中q满足结果\n",
      "70中curr_round_loc满足结果\n",
      "70中round_actions满足结果\n",
      "70中states的不满足结果\n",
      "[ 0.   -2.72  0.76 ...  2.42  2.71  1.44]\n",
      "[ 2.28  1.91  0.39 ...  3.75 -0.05  2.34]\n",
      "70中q满足结果\n",
      "80中curr_round_loc满足结果\n",
      "80中round_actions满足结果\n",
      "80中states的不满足结果\n",
      "[-0.   -2.67  0.76 ...  2.39  2.56  1.43]\n",
      "[ 2.14  1.8   0.4  ...  3.64 -0.11  2.31]\n",
      "80中q满足结果\n",
      "90中curr_round_loc满足结果\n",
      "90中round_actions满足结果\n",
      "90中states的不满足结果\n",
      "[-0.   -2.62  0.76 ...  2.36  2.38  1.42]\n",
      "[ 2.    1.68  0.41 ...  3.5  -0.19  2.3 ]\n",
      "90中q满足结果\n",
      "100中curr_round_loc满足结果\n",
      "100中round_actions满足结果\n",
      "100中states的不满足结果\n",
      "[ 0.   -2.57  0.77 ...  2.32  2.17  1.43]\n",
      "[ 1.85  1.55  0.41 ...  3.34 -0.28  2.29]\n",
      "100中q满足结果\n",
      "110中curr_round_loc满足结果\n",
      "110中round_actions满足结果\n",
      "110中states的不满足结果\n",
      "[-0.   -2.52  0.77 ...  2.29  1.94  1.46]\n",
      "[ 1.71  1.43  0.4  ...  3.16 -0.38  2.3 ]\n",
      "110中q满足结果\n",
      "120中curr_round_loc满足结果\n",
      "120中round_actions满足结果\n",
      "120中states的不满足结果\n",
      "[ 0.   -2.48  0.77 ...  2.26  1.68  1.51]\n",
      "[ 1.57  1.31  0.39 ...  2.96 -0.51  2.33]\n",
      "120中q满足结果\n",
      "130中curr_round_loc满足结果\n",
      "130中round_actions满足结果\n",
      "130中states的不满足结果\n",
      "[ 0.   -2.44  0.78 ...  2.21  1.41  1.58]\n",
      "[ 1.44  1.21  0.37 ...  2.74 -0.65  2.38]\n",
      "130中q满足结果\n",
      "140中curr_round_loc满足结果\n",
      "140中round_actions满足结果\n",
      "140中states的不满足结果\n",
      "[-0.   -2.41  0.78 ...  2.16  1.12  1.68]\n",
      "[ 1.33  1.12  0.34 ...  2.5  -0.79  2.45]\n",
      "140中q满足结果\n",
      "150中curr_round_loc满足结果\n",
      "150中round_actions满足结果\n",
      "150中states的不满足结果\n",
      "[-0.   -2.39  0.79 ...  2.08  0.86  1.79]\n",
      "[ 1.26  1.05  0.29 ...  2.25 -0.93  2.55]\n",
      "150中q满足结果\n",
      "160中curr_round_loc满足结果\n",
      "160中round_actions满足结果\n",
      "160中states的不满足结果\n",
      "[ 0.   -2.38  0.8  ...  1.98  0.65  1.91]\n",
      "[ 1.22  1.02  0.23 ...  2.   -1.04  2.67]\n",
      "160中q满足结果\n",
      "170中curr_round_loc满足结果\n",
      "170中round_actions满足结果\n",
      "170中states的不满足结果\n",
      "[-0.   -2.38  0.8  ...  1.88  0.52  2.03]\n",
      "[ 1.22  1.02  0.17 ...  1.77 -1.1   2.79]\n",
      "170中q满足结果\n",
      "180中curr_round_loc满足结果\n",
      "180中round_actions满足结果\n",
      "180中states的不满足结果\n",
      "[-0.   -2.39  0.81 ...  1.79  0.48  2.12]\n",
      "[ 1.26  1.06  0.12 ...  1.61 -1.1   2.9 ]\n",
      "180中q满足结果\n"
     ]
    },
    {
     "ename": "OSError",
     "evalue": "debug_states/199_curr_round_loc.txt not found.",
     "output_type": "error",
     "traceback": [
      "\u001b[0;31m---------------------------------------------------------------------------\u001b[0m",
      "\u001b[0;31mOSError\u001b[0m                                   Traceback (most recent call last)",
      "\u001b[0;32m/tmp/ipykernel_13475/2022704523.py\u001b[0m in \u001b[0;36m<module>\u001b[0;34m\u001b[0m\n\u001b[1;32m     12\u001b[0m     \u001b[0md1\u001b[0m \u001b[0;34m=\u001b[0m \u001b[0mnp\u001b[0m\u001b[0;34m.\u001b[0m\u001b[0mloadtxt\u001b[0m\u001b[0;34m(\u001b[0m\u001b[0;34m\"debug_states/%d_q_values.txt\"\u001b[0m\u001b[0;34m%\u001b[0m\u001b[0mcur_num\u001b[0m\u001b[0;34m)\u001b[0m\u001b[0;34m\u001b[0m\u001b[0;34m\u001b[0m\u001b[0m\n\u001b[1;32m     13\u001b[0m \u001b[0;34m\u001b[0m\u001b[0m\n\u001b[0;32m---> 14\u001b[0;31m     \u001b[0ma2\u001b[0m \u001b[0;34m=\u001b[0m \u001b[0mnp\u001b[0m\u001b[0;34m.\u001b[0m\u001b[0mloadtxt\u001b[0m\u001b[0;34m(\u001b[0m\u001b[0;34m\"debug_states/%d_curr_round_loc.txt\"\u001b[0m\u001b[0;34m%\u001b[0m\u001b[0;34m(\u001b[0m\u001b[0mnext_num\u001b[0m\u001b[0;34m)\u001b[0m\u001b[0;34m)\u001b[0m\u001b[0;34m\u001b[0m\u001b[0;34m\u001b[0m\u001b[0m\n\u001b[0m\u001b[1;32m     15\u001b[0m     \u001b[0mb2\u001b[0m \u001b[0;34m=\u001b[0m \u001b[0mnp\u001b[0m\u001b[0;34m.\u001b[0m\u001b[0mloadtxt\u001b[0m\u001b[0;34m(\u001b[0m\u001b[0;34m\"debug_states/%d_round_actions.txt\"\u001b[0m\u001b[0;34m%\u001b[0m\u001b[0;34m(\u001b[0m\u001b[0mnext_num\u001b[0m\u001b[0;34m)\u001b[0m\u001b[0;34m)\u001b[0m\u001b[0;34m\u001b[0m\u001b[0;34m\u001b[0m\u001b[0m\n\u001b[1;32m     16\u001b[0m     \u001b[0mb2\u001b[0m \u001b[0;34m=\u001b[0m \u001b[0mnp\u001b[0m\u001b[0;34m.\u001b[0m\u001b[0mdelete\u001b[0m\u001b[0;34m(\u001b[0m\u001b[0mb2\u001b[0m\u001b[0;34m,\u001b[0m \u001b[0;36m2\u001b[0m\u001b[0;34m,\u001b[0m \u001b[0maxis\u001b[0m\u001b[0;34m=\u001b[0m\u001b[0;36m1\u001b[0m\u001b[0;34m)\u001b[0m\u001b[0;34m\u001b[0m\u001b[0;34m\u001b[0m\u001b[0m\n",
      "\u001b[0;32m~/.conda/envs/hab-mm/lib/python3.7/site-packages/numpy/lib/npyio.py\u001b[0m in \u001b[0;36mloadtxt\u001b[0;34m(fname, dtype, comments, delimiter, converters, skiprows, usecols, unpack, ndmin, encoding, max_rows, like)\u001b[0m\n\u001b[1;32m   1065\u001b[0m             \u001b[0mfname\u001b[0m \u001b[0;34m=\u001b[0m \u001b[0mos_fspath\u001b[0m\u001b[0;34m(\u001b[0m\u001b[0mfname\u001b[0m\u001b[0;34m)\u001b[0m\u001b[0;34m\u001b[0m\u001b[0;34m\u001b[0m\u001b[0m\n\u001b[1;32m   1066\u001b[0m         \u001b[0;32mif\u001b[0m \u001b[0m_is_string_like\u001b[0m\u001b[0;34m(\u001b[0m\u001b[0mfname\u001b[0m\u001b[0;34m)\u001b[0m\u001b[0;34m:\u001b[0m\u001b[0;34m\u001b[0m\u001b[0;34m\u001b[0m\u001b[0m\n\u001b[0;32m-> 1067\u001b[0;31m             \u001b[0mfh\u001b[0m \u001b[0;34m=\u001b[0m \u001b[0mnp\u001b[0m\u001b[0;34m.\u001b[0m\u001b[0mlib\u001b[0m\u001b[0;34m.\u001b[0m\u001b[0m_datasource\u001b[0m\u001b[0;34m.\u001b[0m\u001b[0mopen\u001b[0m\u001b[0;34m(\u001b[0m\u001b[0mfname\u001b[0m\u001b[0;34m,\u001b[0m \u001b[0;34m'rt'\u001b[0m\u001b[0;34m,\u001b[0m \u001b[0mencoding\u001b[0m\u001b[0;34m=\u001b[0m\u001b[0mencoding\u001b[0m\u001b[0;34m)\u001b[0m\u001b[0;34m\u001b[0m\u001b[0;34m\u001b[0m\u001b[0m\n\u001b[0m\u001b[1;32m   1068\u001b[0m             \u001b[0mfencoding\u001b[0m \u001b[0;34m=\u001b[0m \u001b[0mgetattr\u001b[0m\u001b[0;34m(\u001b[0m\u001b[0mfh\u001b[0m\u001b[0;34m,\u001b[0m \u001b[0;34m'encoding'\u001b[0m\u001b[0;34m,\u001b[0m \u001b[0;34m'latin1'\u001b[0m\u001b[0;34m)\u001b[0m\u001b[0;34m\u001b[0m\u001b[0;34m\u001b[0m\u001b[0m\n\u001b[1;32m   1069\u001b[0m             \u001b[0mfh\u001b[0m \u001b[0;34m=\u001b[0m \u001b[0miter\u001b[0m\u001b[0;34m(\u001b[0m\u001b[0mfh\u001b[0m\u001b[0;34m)\u001b[0m\u001b[0;34m\u001b[0m\u001b[0;34m\u001b[0m\u001b[0m\n",
      "\u001b[0;32m~/.conda/envs/hab-mm/lib/python3.7/site-packages/numpy/lib/_datasource.py\u001b[0m in \u001b[0;36mopen\u001b[0;34m(path, mode, destpath, encoding, newline)\u001b[0m\n\u001b[1;32m    191\u001b[0m \u001b[0;34m\u001b[0m\u001b[0m\n\u001b[1;32m    192\u001b[0m     \u001b[0mds\u001b[0m \u001b[0;34m=\u001b[0m \u001b[0mDataSource\u001b[0m\u001b[0;34m(\u001b[0m\u001b[0mdestpath\u001b[0m\u001b[0;34m)\u001b[0m\u001b[0;34m\u001b[0m\u001b[0;34m\u001b[0m\u001b[0m\n\u001b[0;32m--> 193\u001b[0;31m     \u001b[0;32mreturn\u001b[0m \u001b[0mds\u001b[0m\u001b[0;34m.\u001b[0m\u001b[0mopen\u001b[0m\u001b[0;34m(\u001b[0m\u001b[0mpath\u001b[0m\u001b[0;34m,\u001b[0m \u001b[0mmode\u001b[0m\u001b[0;34m,\u001b[0m \u001b[0mencoding\u001b[0m\u001b[0;34m=\u001b[0m\u001b[0mencoding\u001b[0m\u001b[0;34m,\u001b[0m \u001b[0mnewline\u001b[0m\u001b[0;34m=\u001b[0m\u001b[0mnewline\u001b[0m\u001b[0;34m)\u001b[0m\u001b[0;34m\u001b[0m\u001b[0;34m\u001b[0m\u001b[0m\n\u001b[0m\u001b[1;32m    194\u001b[0m \u001b[0;34m\u001b[0m\u001b[0m\n\u001b[1;32m    195\u001b[0m \u001b[0;34m\u001b[0m\u001b[0m\n",
      "\u001b[0;32m~/.conda/envs/hab-mm/lib/python3.7/site-packages/numpy/lib/_datasource.py\u001b[0m in \u001b[0;36mopen\u001b[0;34m(self, path, mode, encoding, newline)\u001b[0m\n\u001b[1;32m    531\u001b[0m                                       encoding=encoding, newline=newline)\n\u001b[1;32m    532\u001b[0m         \u001b[0;32melse\u001b[0m\u001b[0;34m:\u001b[0m\u001b[0;34m\u001b[0m\u001b[0;34m\u001b[0m\u001b[0m\n\u001b[0;32m--> 533\u001b[0;31m             \u001b[0;32mraise\u001b[0m \u001b[0mIOError\u001b[0m\u001b[0;34m(\u001b[0m\u001b[0;34m\"%s not found.\"\u001b[0m \u001b[0;34m%\u001b[0m \u001b[0mpath\u001b[0m\u001b[0;34m)\u001b[0m\u001b[0;34m\u001b[0m\u001b[0;34m\u001b[0m\u001b[0m\n\u001b[0m\u001b[1;32m    534\u001b[0m \u001b[0;34m\u001b[0m\u001b[0m\n\u001b[1;32m    535\u001b[0m \u001b[0;34m\u001b[0m\u001b[0m\n",
      "\u001b[0;31mOSError\u001b[0m: debug_states/199_curr_round_loc.txt not found."
     ]
    }
   ],
   "source": [
    "for i in range(0, 360, 10):\n",
    "    cur_num = i\n",
    "    next_num = (i+10)%360\n",
    "    if not os.path.exists(\"debug_states/%d_curr_round_loc.txt\"%cur_num):\n",
    "        cur_num -= 1\n",
    "    if not os.path.exists(\"debug_states/%d_curr_round_loc.txt\"%next_num):\n",
    "        next_num -= 1\n",
    "    \n",
    "    a1 = np.loadtxt(\"debug_states/%d_curr_round_loc.txt\"%cur_num)\n",
    "    b1 = np.loadtxt(\"debug_states/%d_round_actions.txt\"%cur_num)\n",
    "    c1 = np.loadtxt(\"debug_states/%d_states.txt\"%cur_num)\n",
    "    d1 = np.loadtxt(\"debug_states/%d_q_values.txt\"%cur_num)\n",
    "    \n",
    "    a2 = np.loadtxt(\"debug_states/%d_curr_round_loc.txt\"%(next_num))\n",
    "    b2 = np.loadtxt(\"debug_states/%d_round_actions.txt\"%(next_num))\n",
    "    b2 = np.delete(b2, 2, axis=1)\n",
    "    c2 = np.loadtxt(\"debug_states/%d_states.txt\"%(next_num))\n",
    "    d2 = np.loadtxt(\"debug_states/%d_q_values.txt\"%(next_num))\n",
    "    \n",
    "    a3 = np.vstack([a1[-5:], a1[:-5]])\n",
    "#     b3 = np.vstack([b1[-5:], b1[:-5]])\n",
    "    b3 = b1.copy()\n",
    "    b3 = np.delete(b3, 2, axis=1)\n",
    "    c3 = np.vstack([c1[-5:], c1[:-5]])\n",
    "    d3 = np.hstack([d1[-5:], d1[:-5]])\n",
    "    \n",
    "#     print(a3)\n",
    "#     print(\"==========================\")\n",
    "#     print(a2)\n",
    "    \n",
    "    if np.array_equal(a2, a3):\n",
    "        print(\"%d中curr_round_loc满足结果\"%i)\n",
    "    else:\n",
    "        print(\"%d中curr_round_loc的不满足结果\"%i)\n",
    "        print(np.equal(a2, a3))\n",
    "        break\n",
    "    if np.array_equal(b2, b3):\n",
    "        print(\"%d中round_actions满足结果\"%i)\n",
    "    else:\n",
    "        print(\"%d中round_actions的不满足结果\"%i)\n",
    "        print(np.equal(b2, b3))\n",
    "        break\n",
    "    if np.allclose(c2, c3, atol=0.2):\n",
    "        print(\"%d中states满足结果\"%i)\n",
    "    else:\n",
    "        print(\"%d中states的不满足结果\"%i)\n",
    "        result = np.equal(c2, c3)\n",
    "        print(c2[~result])\n",
    "        print(c3[~result])\n",
    "\n",
    "#         break\n",
    "        \n",
    "    if np.allclose(d2, d3, atol=1.0):\n",
    "        print(\"%d中q满足结果\"%i)\n",
    "    else:\n",
    "        diff = np.abs(d2 - d3)\n",
    "        indices = np.where(diff > 1.0)\n",
    "        \n",
    "#         print(\"diff=\", diff)\n",
    "        print(\"indices=\", indices)\n",
    "    \n",
    "        for idx in indices[0]:\n",
    "            print(\"索引值为%s对应的状态在%d中为%s，对应的q值为%s，\\n 在下一个%d中为%s，在下一个的q值为%s\"\n",
    "                  %(str(idx), cur_num, str(c1[idx, :]), str(d3[idx]), next_num, str(c2[idx, :]), str(d2[idx])))\n",
    "            print(\"states的相等程度为%s\"%(np.equal(c1[idx, :], c2[idx, :])))\n",
    "        \n",
    "#         print(\"！！！！！！%d中q的不满足结果\"%i)\n",
    "        \n",
    "\n",
    "#         break"
   ]
  },
  {
   "cell_type": "code",
   "execution_count": null,
   "id": "52cd20b6",
   "metadata": {},
   "outputs": [],
   "source": []
  },
  {
   "cell_type": "code",
   "execution_count": 89,
   "id": "59143a7a",
   "metadata": {},
   "outputs": [
    {
     "name": "stdout",
     "output_type": "stream",
     "text": [
      "/bin/bash: /home/lu/anaconda3/lib/libtinfo.so.6: no version information available (required by /bin/bash)\n",
      "Looking in indexes: https://pypi.tuna.tsinghua.edu.cn/simple\n",
      "Requirement already satisfied: shapely in /home/lu/.conda/envs/hab-mm/lib/python3.7/site-packages (2.0.2)\n",
      "Requirement already satisfied: numpy>=1.14 in /home/lu/.conda/envs/hab-mm/lib/python3.7/site-packages (from shapely) (1.21.6)\n"
     ]
    }
   ],
   "source": [
    "!pip install shapely\n",
    "from shapely.geometry import Point, Polygon\n"
   ]
  },
  {
   "cell_type": "code",
   "execution_count": 90,
   "id": "c9203b01",
   "metadata": {},
   "outputs": [
    {
     "name": "stdout",
     "output_type": "stream",
     "text": [
      "True\n"
     ]
    }
   ],
   "source": [
    "polygon = Polygon([(1,1), (2,3), (3,1)])\n",
    "point = Point(2,2)\n",
    "\n",
    "print(polygon.contains(point))"
   ]
  },
  {
   "cell_type": "code",
   "execution_count": 91,
   "id": "e720737f",
   "metadata": {},
   "outputs": [
    {
     "data": {
      "image/svg+xml": [
       "<svg xmlns=\"http://www.w3.org/2000/svg\" xmlns:xlink=\"http://www.w3.org/1999/xlink\" width=\"100.0\" height=\"100.0\" viewBox=\"0.92 0.92 2.16 2.16\" preserveAspectRatio=\"xMinYMin meet\"><g transform=\"matrix(1,0,0,-1,0,4.0)\"><path fill-rule=\"evenodd\" fill=\"#66cc99\" stroke=\"#555555\" stroke-width=\"0.0432\" opacity=\"0.6\" d=\"M 1.0,1.0 L 2.0,3.0 L 3.0,1.0 L 1.0,1.0 z\" /></g></svg>"
      ],
      "text/plain": [
       "<POLYGON ((1 1, 2 3, 3 1, 1 1))>"
      ]
     },
     "execution_count": 91,
     "metadata": {},
     "output_type": "execute_result"
    }
   ],
   "source": [
    "polygon"
   ]
  },
  {
   "cell_type": "code",
   "execution_count": 98,
   "id": "aa812d88",
   "metadata": {},
   "outputs": [],
   "source": [
    "rectangle = [(-0.16223511309611172, -0.4579712958471672),\n",
    " (1.2368922034304266, -0.4448195764236206),\n",
    " (1.228885560676105, 0.40695593904122707),\n",
    " (-0.17024175585043322, 0.3938042196176804)]"
   ]
  },
  {
   "cell_type": "code",
   "execution_count": 99,
   "id": "f5f54a0c",
   "metadata": {},
   "outputs": [],
   "source": [
    "poly = Polygon(rectangle)"
   ]
  },
  {
   "cell_type": "code",
   "execution_count": 100,
   "id": "e432c0c5",
   "metadata": {},
   "outputs": [
    {
     "data": {
      "image/svg+xml": [
       "<svg xmlns=\"http://www.w3.org/2000/svg\" xmlns:xlink=\"http://www.w3.org/1999/xlink\" width=\"100.0\" height=\"100.0\" viewBox=\"-0.2265271142216676 -0.5142566542184016 1.5197046760233286 0.9774979516308631\" preserveAspectRatio=\"xMinYMin meet\"><g transform=\"matrix(1,0,0,-1,0,-0.05101535680594016)\"><path fill-rule=\"evenodd\" fill=\"#66cc99\" stroke=\"#555555\" stroke-width=\"0.030394093520466573\" opacity=\"0.6\" d=\"M -0.16223511309611172,-0.4579712958471672 L 1.2368922034304266,-0.4448195764236206 L 1.228885560676105,0.40695593904122707 L -0.17024175585043322,0.3938042196176804 L -0.16223511309611172,-0.4579712958471672 z\" /></g></svg>"
      ],
      "text/plain": [
       "<POLYGON ((-0.162 -0.458, 1.237 -0.445, 1.229 0.407, -0.17 0.394, -0.162 -0....>"
      ]
     },
     "execution_count": 100,
     "metadata": {},
     "output_type": "execute_result"
    }
   ],
   "source": [
    "poly"
   ]
  },
  {
   "cell_type": "code",
   "execution_count": null,
   "id": "23817c98",
   "metadata": {},
   "outputs": [],
   "source": []
  },
  {
   "cell_type": "code",
   "execution_count": 1,
   "id": "e14421d0",
   "metadata": {},
   "outputs": [],
   "source": [
    "import numpy as np"
   ]
  },
  {
   "cell_type": "code",
   "execution_count": 5,
   "id": "8de085ac",
   "metadata": {},
   "outputs": [],
   "source": [
    "a = np.random.randint(0, 100, size=(64, 3))"
   ]
  },
  {
   "cell_type": "code",
   "execution_count": 6,
   "id": "08c26399",
   "metadata": {},
   "outputs": [
    {
     "data": {
      "text/plain": [
       "array([[97, 67,  7],\n",
       "       [40, 77, 14],\n",
       "       [76, 93, 96],\n",
       "       [11, 76, 78],\n",
       "       [59, 47, 69],\n",
       "       [17, 69, 32],\n",
       "       [60, 11, 92],\n",
       "       [88, 30, 75],\n",
       "       [85, 78, 84],\n",
       "       [77, 26, 44],\n",
       "       [30, 99, 18],\n",
       "       [17, 92, 77],\n",
       "       [31,  0,  6],\n",
       "       [46, 82, 61],\n",
       "       [92, 12, 60],\n",
       "       [26, 80, 34],\n",
       "       [39, 80,  9],\n",
       "       [ 2, 63, 25],\n",
       "       [54, 19, 81],\n",
       "       [30, 70, 60],\n",
       "       [18, 81, 48],\n",
       "       [78, 12, 22],\n",
       "       [16,  1, 15],\n",
       "       [56, 91, 71],\n",
       "       [98,  1, 13],\n",
       "       [42, 81, 57],\n",
       "       [96, 74, 27],\n",
       "       [51, 70, 83],\n",
       "       [ 5, 67, 30],\n",
       "       [42, 35, 23],\n",
       "       [80, 32, 44],\n",
       "       [20, 46, 77],\n",
       "       [17, 50, 43],\n",
       "       [ 9, 79,  0],\n",
       "       [20, 84, 24],\n",
       "       [80, 85, 30],\n",
       "       [30,  0, 76],\n",
       "       [72, 77, 22],\n",
       "       [98, 45, 29],\n",
       "       [31, 28, 35],\n",
       "       [17, 48, 76],\n",
       "       [64, 63, 28],\n",
       "       [84, 92, 32],\n",
       "       [ 1, 32, 26],\n",
       "       [99, 53, 96],\n",
       "       [22, 37, 23],\n",
       "       [34, 16, 14],\n",
       "       [77,  8, 83],\n",
       "       [25, 14, 54],\n",
       "       [22, 57, 26],\n",
       "       [29, 40, 56],\n",
       "       [32, 71, 20],\n",
       "       [54, 13, 20],\n",
       "       [15,  5, 44],\n",
       "       [49, 54, 40],\n",
       "       [39, 84, 94],\n",
       "       [63, 72, 38],\n",
       "       [31, 81, 63],\n",
       "       [64, 69,  1],\n",
       "       [ 5, 33, 46],\n",
       "       [79, 75, 35],\n",
       "       [70, 73, 51],\n",
       "       [63, 70,  3],\n",
       "       [59, 65,  7]])"
      ]
     },
     "execution_count": 6,
     "metadata": {},
     "output_type": "execute_result"
    }
   ],
   "source": [
    "a"
   ]
  },
  {
   "cell_type": "code",
   "execution_count": null,
   "id": "a921e179",
   "metadata": {},
   "outputs": [],
   "source": []
  }
 ],
 "metadata": {
  "kernelspec": {
   "display_name": "Python 3 (ipykernel)",
   "language": "python",
   "name": "python3"
  },
  "language_info": {
   "codemirror_mode": {
    "name": "ipython",
    "version": 3
   },
   "file_extension": ".py",
   "mimetype": "text/x-python",
   "name": "python",
   "nbconvert_exporter": "python",
   "pygments_lexer": "ipython3",
   "version": "3.7.12"
  }
 },
 "nbformat": 4,
 "nbformat_minor": 5
}
